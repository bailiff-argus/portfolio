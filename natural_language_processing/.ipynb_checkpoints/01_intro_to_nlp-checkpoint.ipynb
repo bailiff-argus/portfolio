{
 "cells": [
  {
   "cell_type": "code",
   "execution_count": 3,
   "id": "46015063",
   "metadata": {},
   "outputs": [],
   "source": [
    "import spacy\n",
    "\n",
    "nlp = spacy.load('en_core_web_sm')"
   ]
  },
  {
   "cell_type": "code",
   "execution_count": 6,
   "id": "c70cc04c",
   "metadata": {},
   "outputs": [],
   "source": [
    "text = \"Tea is healthy and calming, don\\'t you think?\"\n",
    "\n",
    "doc = nlp(text)"
   ]
  },
  {
   "cell_type": "code",
   "execution_count": 8,
   "id": "d965edeb",
   "metadata": {},
   "outputs": [
    {
     "name": "stdout",
     "output_type": "stream",
     "text": [
      "Tea\n",
      "is\n",
      "healthy\n",
      "and\n",
      "calming\n",
      ",\n",
      "do\n",
      "n't\n",
      "you\n",
      "think\n",
      "?\n"
     ]
    }
   ],
   "source": [
    "for token in doc:\n",
    "    print(token)"
   ]
  },
  {
   "cell_type": "code",
   "execution_count": 10,
   "id": "01a09b8c",
   "metadata": {},
   "outputs": [
    {
     "name": "stdout",
     "output_type": "stream",
     "text": [
      "Token \t\tLemma \t\tStopword\n",
      "----------------------------------------\n",
      "Tea\t\ttea\t\tFalse\n",
      "is\t\tbe\t\tTrue\n",
      "healthy\t\thealthy\t\tFalse\n",
      "and\t\tand\t\tTrue\n",
      "calming\t\tcalm\t\tFalse\n",
      ",\t\t,\t\tFalse\n",
      "do\t\tdo\t\tTrue\n",
      "n't\t\tn't\t\tTrue\n",
      "you\t\tyou\t\tTrue\n",
      "think\t\tthink\t\tFalse\n",
      "?\t\t?\t\tFalse\n"
     ]
    }
   ],
   "source": [
    "# a \"lemma\" is the base form of a word\n",
    "# a \"stopword\" is a word that doesn't contain much information\n",
    "\n",
    "print(\n",
    "    \"Token \\t\\tLemma \\t\\tStopword\"\n",
    ")\n",
    "\n",
    "print(\"-\" * 40)\n",
    "\n",
    "for token in doc:\n",
    "    print(\n",
    "        f\"{str(token)}\\t\\t{token.lemma_}\\t\\t{token.is_stop}\"\n",
    "    )"
   ]
  },
  {
   "cell_type": "code",
   "execution_count": 12,
   "id": "633bd04b",
   "metadata": {},
   "outputs": [],
   "source": [
    "from spacy.matcher import PhraseMatcher\n",
    "\n",
    "matcher = PhraseMatcher(nlp.vocab, attr = 'LOWER')"
   ]
  },
  {
   "cell_type": "code",
   "execution_count": 14,
   "id": "ad7cab7a",
   "metadata": {},
   "outputs": [],
   "source": [
    "terms = ['Galaxy Note', 'iPhone 11', 'iPhone XS', 'Google Pixel']\n",
    "patterns = [nlp(text) for text in terms]\n",
    "matcher.add('TerminologyList', patterns)"
   ]
  },
  {
   "cell_type": "code",
   "execution_count": 19,
   "id": "51de7d19",
   "metadata": {},
   "outputs": [
    {
     "name": "stdout",
     "output_type": "stream",
     "text": [
      "[(3766102292120407359, 17, 19), (3766102292120407359, 22, 24), (3766102292120407359, 30, 32), (3766102292120407359, 33, 35)]\n"
     ]
    }
   ],
   "source": [
    "text = \\\n",
    "    \"Glowing review overall, and some really interesting side-by-side \" \\\n",
    "    \"photography tests pitting the iPhone 11 Pro against the \" \\\n",
    "    \"Galaxy Note 10 Plus and last year\\'s iPhone XS and Google Pixel 3.\"\n",
    "\n",
    "text_doc = nlp(text)\n",
    "\n",
    "matches = matcher(text_doc)\n",
    "print(matches)"
   ]
  },
  {
   "cell_type": "code",
   "execution_count": 21,
   "id": "f0c029c0",
   "metadata": {},
   "outputs": [
    {
     "name": "stdout",
     "output_type": "stream",
     "text": [
      "TerminologyList match:  iPhone 11\n"
     ]
    }
   ],
   "source": [
    "match_id, start, end = matches[0]\n",
    "print(\n",
    "    f\"{nlp.vocab.strings[match_id]} match: \",\n",
    "    text_doc[start:end]\n",
    ")"
   ]
  },
  {
   "cell_type": "code",
   "execution_count": 26,
   "id": "18361d87",
   "metadata": {},
   "outputs": [
    {
     "data": {
      "text/html": [
       "<div>\n",
       "<style scoped>\n",
       "    .dataframe tbody tr th:only-of-type {\n",
       "        vertical-align: middle;\n",
       "    }\n",
       "\n",
       "    .dataframe tbody tr th {\n",
       "        vertical-align: top;\n",
       "    }\n",
       "\n",
       "    .dataframe thead th {\n",
       "        text-align: right;\n",
       "    }\n",
       "</style>\n",
       "<table border=\"1\" class=\"dataframe\">\n",
       "  <thead>\n",
       "    <tr style=\"text-align: right;\">\n",
       "      <th></th>\n",
       "      <th>review_id</th>\n",
       "      <th>user_id</th>\n",
       "      <th>business_id</th>\n",
       "      <th>stars</th>\n",
       "      <th>useful</th>\n",
       "      <th>funny</th>\n",
       "      <th>cool</th>\n",
       "      <th>text</th>\n",
       "      <th>date</th>\n",
       "    </tr>\n",
       "  </thead>\n",
       "  <tbody>\n",
       "    <tr>\n",
       "      <th>109</th>\n",
       "      <td>lDJIaF4eYRF4F7g6Zb9euw</td>\n",
       "      <td>lb0QUR5bc4O-Am4hNq9ZGg</td>\n",
       "      <td>r5PLDU-4mSbde5XekTXSCA</td>\n",
       "      <td>4</td>\n",
       "      <td>2</td>\n",
       "      <td>0</td>\n",
       "      <td>0</td>\n",
       "      <td>I used to work food service and my manager at ...</td>\n",
       "      <td>2013-01-27 17:54:54</td>\n",
       "    </tr>\n",
       "    <tr>\n",
       "      <th>1013</th>\n",
       "      <td>vvIzf3pr8lTqE_AOsxmgaA</td>\n",
       "      <td>MAmijW4ooUzujkufYYLMeQ</td>\n",
       "      <td>r5PLDU-4mSbde5XekTXSCA</td>\n",
       "      <td>4</td>\n",
       "      <td>0</td>\n",
       "      <td>0</td>\n",
       "      <td>0</td>\n",
       "      <td>We have been trying Eggplant sandwiches all ov...</td>\n",
       "      <td>2015-04-15 04:50:56</td>\n",
       "    </tr>\n",
       "    <tr>\n",
       "      <th>1204</th>\n",
       "      <td>UF-JqzMczZ8vvp_4tPK3bQ</td>\n",
       "      <td>slfi6gf_qEYTXy90Sw93sg</td>\n",
       "      <td>r5PLDU-4mSbde5XekTXSCA</td>\n",
       "      <td>5</td>\n",
       "      <td>1</td>\n",
       "      <td>0</td>\n",
       "      <td>0</td>\n",
       "      <td>Amazing Steak and Cheese... Better than any Ph...</td>\n",
       "      <td>2011-03-20 00:57:45</td>\n",
       "    </tr>\n",
       "    <tr>\n",
       "      <th>1251</th>\n",
       "      <td>geUJGrKhXynxDC2uvERsLw</td>\n",
       "      <td>N_-UepOzAsuDQwOUtfRFGw</td>\n",
       "      <td>r5PLDU-4mSbde5XekTXSCA</td>\n",
       "      <td>1</td>\n",
       "      <td>0</td>\n",
       "      <td>0</td>\n",
       "      <td>0</td>\n",
       "      <td>Although I have been going to DeFalco's for ye...</td>\n",
       "      <td>2018-07-17 01:48:23</td>\n",
       "    </tr>\n",
       "    <tr>\n",
       "      <th>1354</th>\n",
       "      <td>aPctXPeZW3kDq36TRm-CqA</td>\n",
       "      <td>139hD7gkZVzSvSzDPwhNNw</td>\n",
       "      <td>r5PLDU-4mSbde5XekTXSCA</td>\n",
       "      <td>2</td>\n",
       "      <td>0</td>\n",
       "      <td>0</td>\n",
       "      <td>0</td>\n",
       "      <td>Highs: Ambience, value, pizza and deserts. Thi...</td>\n",
       "      <td>2018-01-21 10:52:58</td>\n",
       "    </tr>\n",
       "  </tbody>\n",
       "</table>\n",
       "</div>"
      ],
      "text/plain": [
       "                   review_id                 user_id             business_id  \\\n",
       "109   lDJIaF4eYRF4F7g6Zb9euw  lb0QUR5bc4O-Am4hNq9ZGg  r5PLDU-4mSbde5XekTXSCA   \n",
       "1013  vvIzf3pr8lTqE_AOsxmgaA  MAmijW4ooUzujkufYYLMeQ  r5PLDU-4mSbde5XekTXSCA   \n",
       "1204  UF-JqzMczZ8vvp_4tPK3bQ  slfi6gf_qEYTXy90Sw93sg  r5PLDU-4mSbde5XekTXSCA   \n",
       "1251  geUJGrKhXynxDC2uvERsLw  N_-UepOzAsuDQwOUtfRFGw  r5PLDU-4mSbde5XekTXSCA   \n",
       "1354  aPctXPeZW3kDq36TRm-CqA  139hD7gkZVzSvSzDPwhNNw  r5PLDU-4mSbde5XekTXSCA   \n",
       "\n",
       "      stars  useful  funny  cool  \\\n",
       "109       4       2      0     0   \n",
       "1013      4       0      0     0   \n",
       "1204      5       1      0     0   \n",
       "1251      1       0      0     0   \n",
       "1354      2       0      0     0   \n",
       "\n",
       "                                                   text                date  \n",
       "109   I used to work food service and my manager at ... 2013-01-27 17:54:54  \n",
       "1013  We have been trying Eggplant sandwiches all ov... 2015-04-15 04:50:56  \n",
       "1204  Amazing Steak and Cheese... Better than any Ph... 2011-03-20 00:57:45  \n",
       "1251  Although I have been going to DeFalco's for ye... 2018-07-17 01:48:23  \n",
       "1354  Highs: Ambience, value, pizza and deserts. Thi... 2018-01-21 10:52:58  "
      ]
     },
     "execution_count": 26,
     "metadata": {},
     "output_type": "execute_result"
    }
   ],
   "source": [
    "import pandas as pd\n",
    "\n",
    "reviews_df = pd.read_json('./data/restaurant.json')\n",
    "\n",
    "menu = [\"Cheese Steak\", \"Cheesesteak\", \"Steak and Cheese\", \"Italian Combo\", \"Tiramisu\", \"Cannoli\",\n",
    "        \"Chicken Salad\", \"Chicken Spinach Salad\", \"Meatball\", \"Pizza\", \"Pizzas\", \"Spaghetti\",\n",
    "        \"Bruchetta\", \"Eggplant\", \"Italian Beef\", \"Purista\", \"Pasta\", \"Calzones\",  \"Calzone\",\n",
    "        \"Italian Sausage\", \"Chicken Cutlet\", \"Chicken Parm\", \"Chicken Parmesan\", \"Gnocchi\",\n",
    "        \"Chicken Pesto\", \"Turkey Sandwich\", \"Turkey Breast\", \"Ziti\", \"Portobello\", \"Reuben\",\n",
    "        \"Mozzarella Caprese\",  \"Corned Beef\", \"Garlic Bread\", \"Pastrami\", \"Roast Beef\",\n",
    "        \"Tuna Salad\", \"Lasagna\", \"Artichoke Salad\", \"Fettuccini Alfredo\", \"Chicken Parmigiana\",\n",
    "        \"Grilled Veggie\", \"Grilled Veggies\", \"Grilled Vegetable\", \"Mac and Cheese\", \"Macaroni\",  \n",
    "         \"Prosciutto\", \"Salami\"]\n",
    "\n",
    "reviews_df.head()"
   ]
  },
  {
   "cell_type": "code",
   "execution_count": 33,
   "id": "f49da763",
   "metadata": {},
   "outputs": [
    {
     "data": {
      "text/plain": [
       "\"The Il Purista sandwich has become a staple of my life. Mozzarella, basil, prosciutto, roasted red peppers and balsamic vinaigrette blend into a front runner for the best sandwich in the valley. Goes great with sparkling water or a beer. \\n\\nDeFalco's also has other Italian fare such as a delicious meatball sub and classic pastas.\""
      ]
     },
     "execution_count": 33,
     "metadata": {},
     "output_type": "execute_result"
    }
   ],
   "source": [
    "import spacy\n",
    "from spacy.matcher import PhraseMatcher\n",
    "\n",
    "test_review_index = 14\n",
    "test_text = reviews_df.iloc[test_review_index]['text']\n",
    "test_text"
   ]
  },
  {
   "cell_type": "code",
   "execution_count": 35,
   "id": "4e6e0051",
   "metadata": {},
   "outputs": [
    {
     "data": {
      "text/plain": [
       "[(533989841420491665, 2, 3),\n",
       " (533989841420491665, 16, 17),\n",
       " (533989841420491665, 58, 59)]"
      ]
     },
     "execution_count": 35,
     "metadata": {},
     "output_type": "execute_result"
    }
   ],
   "source": [
    "nlp = spacy.blank('en')\n",
    "review_doc = nlp(test_text)\n",
    "\n",
    "matcher = PhraseMatcher(nlp.vocab, attr = 'LOWER')\n",
    "\n",
    "menu_tokens = [nlp(item) for item in menu]\n",
    "matcher.add('MenuItems', menu_tokens)\n",
    "\n",
    "matches = matcher(review_doc)\n",
    "matches"
   ]
  },
  {
   "cell_type": "code",
   "execution_count": 38,
   "id": "aeb24520",
   "metadata": {},
   "outputs": [
    {
     "name": "stdout",
     "output_type": "stream",
     "text": [
      "purista\n",
      "prosciutto\n",
      "meatball\n"
     ]
    }
   ],
   "source": [
    "for token_no, start, end in matches:\n",
    "    print(review_doc[start:end].text.lower())"
   ]
  },
  {
   "cell_type": "code",
   "execution_count": 39,
   "id": "01cb85d1",
   "metadata": {},
   "outputs": [],
   "source": [
    "from collections import defaultdict\n",
    "\n",
    "item_ratings = defaultdict(list)\n",
    "\n",
    "for index, review in data.iterrows():\n",
    "    doc = nlp(review['text'])\n",
    "    matches = matcher(doc)\n",
    "    \n",
    "    found_items: set = {\n",
    "        doc[start:end].text.lower() for token_no, start, end in matches\n",
    "    }\n",
    "\n",
    "    for item in found_items:\n",
    "        item_ratings[item].append(review['stars'])"
   ]
  },
  {
   "cell_type": "code",
   "execution_count": 42,
   "id": "6a549fbe",
   "metadata": {},
   "outputs": [
    {
     "data": {
      "text/plain": [
       "'chicken cutlet'"
      ]
     },
     "execution_count": 42,
     "metadata": {},
     "output_type": "execute_result"
    }
   ],
   "source": [
    "from numpy import mean\n",
    "\n",
    "mean_ratings: dict = {\n",
    "    item_name: mean(ratings) for item_name, ratings in item_ratings.items()\n",
    "}\n",
    "    \n",
    "worst_item = min(mean_ratings, key = mean_ratings.get)\n",
    "worst_item"
   ]
  },
  {
   "cell_type": "code",
   "execution_count": 44,
   "id": "f89c1e0b",
   "metadata": {},
   "outputs": [
    {
     "name": "stdout",
     "output_type": "stream",
     "text": [
      "                    pizza  265\n",
      "                    pasta  206\n",
      "                 meatball  128\n",
      "              cheesesteak   97\n",
      "             cheese steak   76\n",
      "                  cannoli   72\n",
      "                  calzone   72\n",
      "                 eggplant   69\n",
      "                  purista   63\n",
      "                  lasagna   59\n",
      "          italian sausage   53\n",
      "               prosciutto   50\n",
      "             chicken parm   50\n",
      "             garlic bread   39\n",
      "                  gnocchi   37\n",
      "                spaghetti   36\n",
      "                 calzones   35\n",
      "                   pizzas   32\n",
      "                   salami   28\n",
      "            chicken pesto   27\n",
      "             italian beef   25\n",
      "            italian combo   21\n",
      "                 tiramisu   21\n",
      "                     ziti   21\n",
      "         chicken parmesan   19\n",
      "       chicken parmigiana   17\n",
      "               portobello   14\n",
      "           mac and cheese   11\n",
      "           chicken cutlet   10\n",
      "         steak and cheese    9\n",
      "                 pastrami    9\n",
      "               roast beef    7\n",
      "       fettuccini alfredo    6\n",
      "           grilled veggie    6\n",
      "          turkey sandwich    5\n",
      "               tuna salad    5\n",
      "          artichoke salad    5\n",
      "                 macaroni    5\n",
      "            chicken salad    5\n",
      "                   reuben    4\n",
      "    chicken spinach salad    2\n",
      "              corned beef    2\n",
      "            turkey breast    1\n"
     ]
    }
   ],
   "source": [
    "counts: dict = {\n",
    "    item: len(ratings) for item, ratings in item_ratings.items()\n",
    "}\n",
    "    \n",
    "item_counts = sorted(counts, key = counts.get, reverse = True)\n",
    "\n",
    "for item in item_counts:\n",
    "    print(\n",
    "        f\"{item:>25}{counts[item]:>5}\"\n",
    "    )"
   ]
  },
  {
   "cell_type": "code",
   "execution_count": 47,
   "id": "252fb286",
   "metadata": {},
   "outputs": [
    {
     "name": "stdout",
     "output_type": "stream",
     "text": [
      "Worst rated menu items:\n",
      "\n",
      "chicken cutlet       avg rating: 3.40 \tcount: 10\n",
      "turkey sandwich      avg rating: 3.80 \tcount: 5\n",
      "spaghetti            avg rating: 3.89 \tcount: 36\n",
      "italian beef         avg rating: 3.92 \tcount: 25\n",
      "tuna salad           avg rating: 4.00 \tcount: 5\n",
      "macaroni             avg rating: 4.00 \tcount: 5\n",
      "italian combo        avg rating: 4.05 \tcount: 21\n",
      "garlic bread         avg rating: 4.13 \tcount: 39\n",
      "roast beef           avg rating: 4.14 \tcount: 7\n",
      "eggplant             avg rating: 4.16 \tcount: 69\n",
      "\n",
      "\n",
      "\n",
      "\n",
      "Best rated menu items:\n",
      "\n",
      "chicken pesto        avg rating: 4.56 \tcount: 27\n",
      "chicken salad        avg rating: 4.60 \tcount: 5\n",
      "purista              avg rating: 4.67 \tcount: 63\n",
      "prosciutto           avg rating: 4.68 \tcount: 50\n",
      "reuben               avg rating: 4.75 \tcount: 4\n",
      "steak and cheese     avg rating: 4.89 \tcount: 9\n",
      "artichoke salad      avg rating: 5.00 \tcount: 5\n",
      "fettuccini alfredo   avg rating: 5.00 \tcount: 6\n",
      "turkey breast        avg rating: 5.00 \tcount: 1\n",
      "corned beef          avg rating: 5.00 \tcount: 2\n"
     ]
    }
   ],
   "source": [
    "sorted_ratings = sorted(mean_ratings, key = mean_ratings.get)\n",
    "\n",
    "print(\"Worst rated menu items:\\n\")\n",
    "for item in sorted_ratings[:10]:\n",
    "    print(\n",
    "        f\"{item:20} avg rating: {mean_ratings[item]:.2f} \\tcount: {counts[item]}\"\n",
    "    )\n",
    "    \n",
    "print('\\n\\n\\n')\n",
    "    \n",
    "print(\"Best rated menu items:\\n\")\n",
    "for item in sorted_ratings[-10:]:\n",
    "    print(\n",
    "        f\"{item:20} avg rating: {mean_ratings[item]:.2f} \\tcount: {counts[item]}\"\n",
    "    )"
   ]
  },
  {
   "cell_type": "code",
   "execution_count": null,
   "id": "f813ee6c",
   "metadata": {},
   "outputs": [],
   "source": []
  }
 ],
 "metadata": {
  "kernelspec": {
   "display_name": "Python 3 (ipykernel)",
   "language": "python",
   "name": "python3"
  },
  "language_info": {
   "codemirror_mode": {
    "name": "ipython",
    "version": 3
   },
   "file_extension": ".py",
   "mimetype": "text/x-python",
   "name": "python",
   "nbconvert_exporter": "python",
   "pygments_lexer": "ipython3",
   "version": "3.9.2"
  }
 },
 "nbformat": 4,
 "nbformat_minor": 5
}
