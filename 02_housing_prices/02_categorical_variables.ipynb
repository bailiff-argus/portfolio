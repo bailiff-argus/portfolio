{
 "cells": [
  {
   "cell_type": "code",
   "execution_count": 1,
   "id": "890698c4",
   "metadata": {},
   "outputs": [],
   "source": [
    "import pandas as pd\n",
    "\n",
    "housing_data = pd.read_csv('./data/melb_data.csv')\n",
    "\n",
    "y = housing_data['Price']\n",
    "X = housing_data.drop(['Price'], axis = 1)\n",
    "\n",
    "\n",
    "from sklearn.model_selection import train_test_split\n",
    "\n",
    "X_train_full, X_valid_full, y_train, y_valid = train_test_split(\n",
    "    X, y, train_size = 0.8, test_size = 0.2, random_state = 1\n",
    ")\n",
    "\n",
    "\n",
    "# dropping cols with missing values\n",
    "cols_with_nones = [col_name for col_name in X_train_full.columns if X_train_full[col_name].isna().any()]\n",
    "X_train_full.drop(cols_with_nones, axis = 1, inplace = True)\n",
    "X_valid_full.drop(cols_with_nones, axis = 1, inplace = True)"
   ]
  },
  {
   "cell_type": "code",
   "execution_count": 2,
   "id": "9c5937d8",
   "metadata": {},
   "outputs": [],
   "source": [
    "# let's only select categorical columns with low cardinality (convenient)\n",
    "low_card_cols = [col_name for col_name in X_train_full.columns\n",
    "                 if  X_train_full[col_name].nunique() < 10\n",
    "                 and X_train_full[col_name].dtype == 'object']"
   ]
  },
  {
   "cell_type": "code",
   "execution_count": 3,
   "id": "ef272514",
   "metadata": {},
   "outputs": [],
   "source": [
    "# and select numerical columns\n",
    "numerical_cols = [col_name for col_name in X_train_full.columns\n",
    "                  if X_train_full[col_name].dtype in ['int64', 'float64']]"
   ]
  },
  {
   "cell_type": "code",
   "execution_count": 4,
   "id": "8d0b2b1d",
   "metadata": {},
   "outputs": [],
   "source": [
    "selected_predictive_features = low_card_cols + numerical_cols\n",
    "\n",
    "X_train = X_train_full[selected_predictive_features].copy()\n",
    "X_valid = X_valid_full[selected_predictive_features].copy()"
   ]
  },
  {
   "cell_type": "code",
   "execution_count": 5,
   "id": "129da998",
   "metadata": {},
   "outputs": [
    {
     "data": {
      "text/html": [
       "<div>\n",
       "<style scoped>\n",
       "    .dataframe tbody tr th:only-of-type {\n",
       "        vertical-align: middle;\n",
       "    }\n",
       "\n",
       "    .dataframe tbody tr th {\n",
       "        vertical-align: top;\n",
       "    }\n",
       "\n",
       "    .dataframe thead th {\n",
       "        text-align: right;\n",
       "    }\n",
       "</style>\n",
       "<table border=\"1\" class=\"dataframe\">\n",
       "  <thead>\n",
       "    <tr style=\"text-align: right;\">\n",
       "      <th></th>\n",
       "      <th>Type</th>\n",
       "      <th>Method</th>\n",
       "      <th>Regionname</th>\n",
       "      <th>Rooms</th>\n",
       "      <th>Distance</th>\n",
       "      <th>Postcode</th>\n",
       "      <th>Bedroom2</th>\n",
       "      <th>Bathroom</th>\n",
       "      <th>Landsize</th>\n",
       "      <th>Lattitude</th>\n",
       "      <th>Longtitude</th>\n",
       "      <th>Propertycount</th>\n",
       "    </tr>\n",
       "  </thead>\n",
       "  <tbody>\n",
       "    <tr>\n",
       "      <th>1041</th>\n",
       "      <td>h</td>\n",
       "      <td>S</td>\n",
       "      <td>Southern Metropolitan</td>\n",
       "      <td>3</td>\n",
       "      <td>11.2</td>\n",
       "      <td>3186.0</td>\n",
       "      <td>3.0</td>\n",
       "      <td>1.0</td>\n",
       "      <td>366.0</td>\n",
       "      <td>-37.90380</td>\n",
       "      <td>145.00010</td>\n",
       "      <td>10579.0</td>\n",
       "    </tr>\n",
       "    <tr>\n",
       "      <th>1989</th>\n",
       "      <td>h</td>\n",
       "      <td>S</td>\n",
       "      <td>Northern Metropolitan</td>\n",
       "      <td>3</td>\n",
       "      <td>7.8</td>\n",
       "      <td>3058.0</td>\n",
       "      <td>3.0</td>\n",
       "      <td>1.0</td>\n",
       "      <td>238.0</td>\n",
       "      <td>-37.75390</td>\n",
       "      <td>144.96120</td>\n",
       "      <td>11204.0</td>\n",
       "    </tr>\n",
       "    <tr>\n",
       "      <th>10157</th>\n",
       "      <td>h</td>\n",
       "      <td>S</td>\n",
       "      <td>Northern Metropolitan</td>\n",
       "      <td>3</td>\n",
       "      <td>5.2</td>\n",
       "      <td>3056.0</td>\n",
       "      <td>3.0</td>\n",
       "      <td>1.0</td>\n",
       "      <td>439.0</td>\n",
       "      <td>-37.77047</td>\n",
       "      <td>144.97005</td>\n",
       "      <td>11918.0</td>\n",
       "    </tr>\n",
       "    <tr>\n",
       "      <th>1711</th>\n",
       "      <td>u</td>\n",
       "      <td>S</td>\n",
       "      <td>Southern Metropolitan</td>\n",
       "      <td>2</td>\n",
       "      <td>11.4</td>\n",
       "      <td>3163.0</td>\n",
       "      <td>2.0</td>\n",
       "      <td>1.0</td>\n",
       "      <td>0.0</td>\n",
       "      <td>-37.88630</td>\n",
       "      <td>145.06600</td>\n",
       "      <td>7822.0</td>\n",
       "    </tr>\n",
       "    <tr>\n",
       "      <th>11565</th>\n",
       "      <td>h</td>\n",
       "      <td>S</td>\n",
       "      <td>Western Metropolitan</td>\n",
       "      <td>4</td>\n",
       "      <td>11.0</td>\n",
       "      <td>3018.0</td>\n",
       "      <td>4.0</td>\n",
       "      <td>2.0</td>\n",
       "      <td>615.0</td>\n",
       "      <td>-37.87057</td>\n",
       "      <td>144.83623</td>\n",
       "      <td>5301.0</td>\n",
       "    </tr>\n",
       "  </tbody>\n",
       "</table>\n",
       "</div>"
      ],
      "text/plain": [
       "      Type Method             Regionname  Rooms  Distance  Postcode  Bedroom2  \\\n",
       "1041     h      S  Southern Metropolitan      3      11.2    3186.0       3.0   \n",
       "1989     h      S  Northern Metropolitan      3       7.8    3058.0       3.0   \n",
       "10157    h      S  Northern Metropolitan      3       5.2    3056.0       3.0   \n",
       "1711     u      S  Southern Metropolitan      2      11.4    3163.0       2.0   \n",
       "11565    h      S   Western Metropolitan      4      11.0    3018.0       4.0   \n",
       "\n",
       "       Bathroom  Landsize  Lattitude  Longtitude  Propertycount  \n",
       "1041        1.0     366.0  -37.90380   145.00010        10579.0  \n",
       "1989        1.0     238.0  -37.75390   144.96120        11204.0  \n",
       "10157       1.0     439.0  -37.77047   144.97005        11918.0  \n",
       "1711        1.0       0.0  -37.88630   145.06600         7822.0  \n",
       "11565       2.0     615.0  -37.87057   144.83623         5301.0  "
      ]
     },
     "execution_count": 5,
     "metadata": {},
     "output_type": "execute_result"
    }
   ],
   "source": [
    "X_train.head()"
   ]
  },
  {
   "cell_type": "code",
   "execution_count": 6,
   "id": "d7cdde17",
   "metadata": {},
   "outputs": [
    {
     "data": {
      "text/plain": [
       "['Type', 'Method', 'Regionname']"
      ]
     },
     "execution_count": 6,
     "metadata": {},
     "output_type": "execute_result"
    }
   ],
   "source": [
    "s = (X_train.dtypes == 'object')\n",
    "\n",
    "categorical_features = list(s[s].index)\n",
    "categorical_features"
   ]
  },
  {
   "cell_type": "code",
   "execution_count": 7,
   "id": "fa223005",
   "metadata": {},
   "outputs": [],
   "source": [
    "from sklearn.ensemble import RandomForestRegressor\n",
    "from sklearn.metrics import mean_absolute_error\n",
    "\n",
    "def rate_dataset(X_train, X_valid, y_train, y_valid):\n",
    "    model = RandomForestRegressor(n_estimators = 100, random_state = 0)\n",
    "    model.fit(X_train, y_train)\n",
    "    \n",
    "    predictions = model.predict(X_valid)\n",
    "    mae = mean_absolute_error(y_valid, predictions)\n",
    "    \n",
    "    return mae"
   ]
  },
  {
   "cell_type": "code",
   "execution_count": 8,
   "id": "b23f6ff7",
   "metadata": {},
   "outputs": [
    {
     "name": "stdout",
     "output_type": "stream",
     "text": [
      "MAE when dropping categorical variables: 176938.0\n"
     ]
    }
   ],
   "source": [
    "# Drop categorical variables\n",
    "\n",
    "X_train_drop_cat = X_train.select_dtypes(exclude = ['object'])\n",
    "X_valid_drop_cat = X_valid.select_dtypes(exclude = ['object'])\n",
    "\n",
    "print(\"MAE when dropping categorical variables:\", end = ' ')\n",
    "print(\n",
    "    round(rate_dataset(\n",
    "        X_train_drop_cat, X_valid_drop_cat, y_train, y_valid\n",
    "    ), 0)\n",
    ")"
   ]
  },
  {
   "cell_type": "code",
   "execution_count": 9,
   "id": "f8ae149e",
   "metadata": {},
   "outputs": [
    {
     "name": "stdout",
     "output_type": "stream",
     "text": [
      "MAE when using ordinal encoding: 164359.0\n"
     ]
    }
   ],
   "source": [
    "# use an Ordinal Encoder\n",
    "\n",
    "from sklearn.preprocessing import OrdinalEncoder\n",
    "\n",
    "\n",
    "X_train_ordinal = X_train.copy()\n",
    "X_valid_ordinal = X_valid.copy()\n",
    "\n",
    "ordinal_encoder = OrdinalEncoder()\n",
    "X_train_ordinal.loc[:, categorical_features] = ordinal_encoder.fit_transform(X_train[categorical_features])\n",
    "X_valid_ordinal.loc[:, categorical_features] = ordinal_encoder.transform(X_valid[categorical_features])\n",
    "\n",
    "\n",
    "\n",
    "print(\"MAE when using ordinal encoding:\", end = ' ')\n",
    "print(\n",
    "    round(rate_dataset(\n",
    "        X_train_ordinal, X_valid_ordinal, y_train, y_valid\n",
    "    ), 0)\n",
    ")"
   ]
  },
  {
   "cell_type": "code",
   "execution_count": 10,
   "id": "8650c276",
   "metadata": {},
   "outputs": [
    {
     "name": "stdout",
     "output_type": "stream",
     "text": [
      "MAE when using one-hot encoding: 161965.0\n"
     ]
    }
   ],
   "source": [
    "# use a One-Hot Encoder\n",
    "\n",
    "from sklearn.preprocessing import OneHotEncoder\n",
    "\n",
    "\n",
    "onehot_encoder = OneHotEncoder(handle_unknown = 'ignore', sparse = False)\n",
    "onehot_cols_train = pd.DataFrame(onehot_encoder.fit_transform(X_train[categorical_features]))\n",
    "onehot_cols_valid = pd.DataFrame(onehot_encoder.transform(X_valid[categorical_features]))\n",
    "\n",
    "onehot_cols_train.index = X_train.index\n",
    "onehot_cols_valid.index = X_valid.index\n",
    "\n",
    "onehot_cols_train.columns = onehot_cols_train.columns.astype(str)\n",
    "onehot_cols_valid.columns = onehot_cols_valid.columns.astype(str)\n",
    "\n",
    "X_train_numerical = X_train.drop(categorical_features, axis = 1)\n",
    "X_valid_numerical = X_valid.drop(categorical_features, axis = 1)\n",
    "\n",
    "X_train_onehot = pd.concat([X_train_numerical, onehot_cols_train], axis = 1)\n",
    "X_valid_onehot = pd.concat([X_valid_numerical, onehot_cols_valid], axis = 1)\n",
    "\n",
    "print(\"MAE when using one-hot encoding:\",\n",
    "    round(rate_dataset(\n",
    "        X_train_onehot, X_valid_onehot, y_train, y_valid\n",
    "    ), 0)\n",
    ")"
   ]
  }
 ],
 "metadata": {
  "kernelspec": {
   "display_name": "Python 3 (ipykernel)",
   "language": "python",
   "name": "python3"
  },
  "language_info": {
   "codemirror_mode": {
    "name": "ipython",
    "version": 3
   },
   "file_extension": ".py",
   "mimetype": "text/x-python",
   "name": "python",
   "nbconvert_exporter": "python",
   "pygments_lexer": "ipython3",
   "version": "3.9.2"
  }
 },
 "nbformat": 4,
 "nbformat_minor": 5
}
