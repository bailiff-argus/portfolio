{
 "cells": [
  {
   "cell_type": "code",
   "execution_count": 1,
   "id": "2f894f86",
   "metadata": {},
   "outputs": [],
   "source": [
    "from sklearn.model_selection import train_test_split\n",
    "import pandas as pd\n",
    "\n",
    "housing_data = pd.read_csv(\"./data/melb_data.csv\")\n",
    "\n",
    "# prediction target\n",
    "y = housing_data['Price']\n",
    "\n",
    "# predicting features\n",
    "housing_predictors = housing_data.drop(['Price'], axis = 1)\n",
    "X = housing_predictors.select_dtypes(exclude = ['object'])\n",
    "\n",
    "# split\n",
    "X_train, X_val, y_train, y_val = train_test_split(X, y, train_size = 0.8, test_size = 0.2, random_state = 0)"
   ]
  },
  {
   "cell_type": "code",
   "execution_count": 2,
   "id": "32992bde",
   "metadata": {},
   "outputs": [],
   "source": [
    "from sklearn.ensemble import RandomForestRegressor\n",
    "from sklearn.metrics import mean_absolute_error\n",
    "\n",
    "def rate_dataset(X_train, X_val, y_train, y_val):\n",
    "    model = RandomForestRegressor(n_estimators = 10, random_state = 0)\n",
    "    model.fit(X_train, y_train)\n",
    "    \n",
    "    predictions = model.predict(X_val)\n",
    "    \n",
    "    return mean_absolute_error(y_val, predictions)"
   ]
  },
  {
   "cell_type": "code",
   "execution_count": 4,
   "id": "dd5bd14c",
   "metadata": {},
   "outputs": [
    {
     "name": "stdout",
     "output_type": "stream",
     "text": [
      "MAE when dropping columns with missing values: 183550.0\n"
     ]
    }
   ],
   "source": [
    "# Drop cols with missing values\n",
    "cols_with_nulls = [col for col in X_train.columns if X_train[col].isna().any()]\n",
    "\n",
    "reduced_X_train = X_train.drop(cols_with_nulls, axis = 1)\n",
    "reduced_X_val = X_val.drop(cols_with_nulls, axis = 1)\n",
    "\n",
    "print(\"MAE when dropping columns with missing values: \", end='')\n",
    "print(\n",
    "    round(\n",
    "        rate_dataset(reduced_X_train, reduced_X_val, y_train, y_val), 0\n",
    "    )\n",
    ")"
   ]
  },
  {
   "cell_type": "code",
   "execution_count": 7,
   "id": "69c9343b",
   "metadata": {},
   "outputs": [
    {
     "name": "stdout",
     "output_type": "stream",
     "text": [
      "MAE when imputing: 178166.0\n"
     ]
    }
   ],
   "source": [
    "# Imputation (filling in means)\n",
    "\n",
    "from sklearn.impute import SimpleImputer\n",
    "\n",
    "imputer = SimpleImputer()\n",
    "imputed_X_train = pd.DataFrame(imputer.fit_transform(X_train))\n",
    "imputed_X_val = pd.DataFrame(imputer.transform(X_val))\n",
    "\n",
    "# restore col names\n",
    "imputed_X_train.columns = X_train.columns\n",
    "imputed_X_val.columns = X_val.columns\n",
    "\n",
    "print(\"MAE when imputing: \", end='')\n",
    "print(\n",
    "    round(\n",
    "        rate_dataset(imputed_X_train, imputed_X_val, y_train, y_val), 0\n",
    "    )\n",
    ")"
   ]
  },
  {
   "cell_type": "code",
   "execution_count": 8,
   "id": "91a26d7f",
   "metadata": {},
   "outputs": [
    {
     "name": "stdout",
     "output_type": "stream",
     "text": [
      "MAE when imputing and listing imputations: 178928.0\n"
     ]
    }
   ],
   "source": [
    "# Imputation with indicators\n",
    "\n",
    "X_train_2 = X_train.copy()\n",
    "X_val_2 = X_val.copy()\n",
    "\n",
    "for col in cols_with_nulls:\n",
    "    X_train_2[col + '_was_missing'] = X_train_2[col].isnull()\n",
    "    X_val_2[col + '_was_missing'] = X_val_2[col].isnull()\n",
    "    \n",
    "imputer = SimpleImputer()\n",
    "imputed_X_train_2 = pd.DataFrame(imputer.fit_transform(X_train_2))\n",
    "imputed_X_val_2 = pd.DataFrame(imputer.transform(X_val_2))\n",
    "\n",
    "imputed_X_train_2.columns = X_train_2.columns\n",
    "imputed_X_val_2.columns = X_val_2.columns\n",
    "\n",
    "print(\"MAE when imputing and listing imputations: \", end='')\n",
    "print(\n",
    "    round(\n",
    "        rate_dataset(imputed_X_train_2, imputed_X_val_2, y_train, y_val), 0\n",
    "    )\n",
    ")"
   ]
  },
  {
   "cell_type": "code",
   "execution_count": 10,
   "id": "d81a0a1b",
   "metadata": {},
   "outputs": [
    {
     "name": "stdout",
     "output_type": "stream",
     "text": [
      "(10864, 12)\n"
     ]
    },
    {
     "data": {
      "text/plain": [
       "Car               49\n",
       "BuildingArea    5156\n",
       "YearBuilt       4307\n",
       "dtype: int64"
      ]
     },
     "execution_count": 10,
     "metadata": {},
     "output_type": "execute_result"
    }
   ],
   "source": [
    "# the performance with imputed data was better because less than half entries were missing in columns with nones\n",
    "# and dropping those columns removes useful data\n",
    "\n",
    "print(X_train.shape)\n",
    "\n",
    "missing_vals_per_col = X_train.isnull().sum()\n",
    "missing_vals_per_col[missing_vals_per_col > 0]"
   ]
  }
 ],
 "metadata": {
  "kernelspec": {
   "display_name": "Python 3 (ipykernel)",
   "language": "python",
   "name": "python3"
  },
  "language_info": {
   "codemirror_mode": {
    "name": "ipython",
    "version": 3
   },
   "file_extension": ".py",
   "mimetype": "text/x-python",
   "name": "python",
   "nbconvert_exporter": "python",
   "pygments_lexer": "ipython3",
   "version": "3.9.2"
  }
 },
 "nbformat": 4,
 "nbformat_minor": 5
}
