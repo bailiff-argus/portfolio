{
 "cells": [
  {
   "cell_type": "code",
   "execution_count": 1,
   "id": "6558cbff",
   "metadata": {},
   "outputs": [],
   "source": [
    "# Target leakage:\n",
    "# dataset contains values that can only be determined AFTER the moment of prediction\n",
    "\n",
    "# Train-test contamination:\n",
    "# using validation sets to fit the imputer"
   ]
  },
  {
   "cell_type": "code",
   "execution_count": 2,
   "id": "8a9094e1",
   "metadata": {},
   "outputs": [
    {
     "name": "stdout",
     "output_type": "stream",
     "text": [
      "(1319, 11)\n"
     ]
    },
    {
     "data": {
      "text/html": [
       "<div>\n",
       "<style scoped>\n",
       "    .dataframe tbody tr th:only-of-type {\n",
       "        vertical-align: middle;\n",
       "    }\n",
       "\n",
       "    .dataframe tbody tr th {\n",
       "        vertical-align: top;\n",
       "    }\n",
       "\n",
       "    .dataframe thead th {\n",
       "        text-align: right;\n",
       "    }\n",
       "</style>\n",
       "<table border=\"1\" class=\"dataframe\">\n",
       "  <thead>\n",
       "    <tr style=\"text-align: right;\">\n",
       "      <th></th>\n",
       "      <th>reports</th>\n",
       "      <th>age</th>\n",
       "      <th>income</th>\n",
       "      <th>share</th>\n",
       "      <th>expenditure</th>\n",
       "      <th>owner</th>\n",
       "      <th>selfemp</th>\n",
       "      <th>dependents</th>\n",
       "      <th>months</th>\n",
       "      <th>majorcards</th>\n",
       "      <th>active</th>\n",
       "    </tr>\n",
       "  </thead>\n",
       "  <tbody>\n",
       "    <tr>\n",
       "      <th>0</th>\n",
       "      <td>0</td>\n",
       "      <td>37.66667</td>\n",
       "      <td>4.5200</td>\n",
       "      <td>0.033270</td>\n",
       "      <td>124.983300</td>\n",
       "      <td>True</td>\n",
       "      <td>False</td>\n",
       "      <td>3</td>\n",
       "      <td>54</td>\n",
       "      <td>1</td>\n",
       "      <td>12</td>\n",
       "    </tr>\n",
       "    <tr>\n",
       "      <th>1</th>\n",
       "      <td>0</td>\n",
       "      <td>33.25000</td>\n",
       "      <td>2.4200</td>\n",
       "      <td>0.005217</td>\n",
       "      <td>9.854167</td>\n",
       "      <td>False</td>\n",
       "      <td>False</td>\n",
       "      <td>3</td>\n",
       "      <td>34</td>\n",
       "      <td>1</td>\n",
       "      <td>13</td>\n",
       "    </tr>\n",
       "    <tr>\n",
       "      <th>2</th>\n",
       "      <td>0</td>\n",
       "      <td>33.66667</td>\n",
       "      <td>4.5000</td>\n",
       "      <td>0.004156</td>\n",
       "      <td>15.000000</td>\n",
       "      <td>True</td>\n",
       "      <td>False</td>\n",
       "      <td>4</td>\n",
       "      <td>58</td>\n",
       "      <td>1</td>\n",
       "      <td>5</td>\n",
       "    </tr>\n",
       "    <tr>\n",
       "      <th>3</th>\n",
       "      <td>0</td>\n",
       "      <td>30.50000</td>\n",
       "      <td>2.5400</td>\n",
       "      <td>0.065214</td>\n",
       "      <td>137.869200</td>\n",
       "      <td>False</td>\n",
       "      <td>False</td>\n",
       "      <td>0</td>\n",
       "      <td>25</td>\n",
       "      <td>1</td>\n",
       "      <td>7</td>\n",
       "    </tr>\n",
       "    <tr>\n",
       "      <th>4</th>\n",
       "      <td>0</td>\n",
       "      <td>32.16667</td>\n",
       "      <td>9.7867</td>\n",
       "      <td>0.067051</td>\n",
       "      <td>546.503300</td>\n",
       "      <td>True</td>\n",
       "      <td>False</td>\n",
       "      <td>2</td>\n",
       "      <td>64</td>\n",
       "      <td>1</td>\n",
       "      <td>5</td>\n",
       "    </tr>\n",
       "  </tbody>\n",
       "</table>\n",
       "</div>"
      ],
      "text/plain": [
       "   reports       age  income     share  expenditure  owner  selfemp  \\\n",
       "0        0  37.66667  4.5200  0.033270   124.983300   True    False   \n",
       "1        0  33.25000  2.4200  0.005217     9.854167  False    False   \n",
       "2        0  33.66667  4.5000  0.004156    15.000000   True    False   \n",
       "3        0  30.50000  2.5400  0.065214   137.869200  False    False   \n",
       "4        0  32.16667  9.7867  0.067051   546.503300   True    False   \n",
       "\n",
       "   dependents  months  majorcards  active  \n",
       "0           3      54           1      12  \n",
       "1           3      34           1      13  \n",
       "2           4      58           1       5  \n",
       "3           0      25           1       7  \n",
       "4           2      64           1       5  "
      ]
     },
     "execution_count": 2,
     "metadata": {},
     "output_type": "execute_result"
    }
   ],
   "source": [
    "import pandas as pd\n",
    "\n",
    "data = pd.read_csv('./data/AER_credit_card_data.csv', true_values = ['yes'], false_values = ['no'])\n",
    "\n",
    "y = data['card']\n",
    "X = data.drop(['card'], axis = 1)\n",
    "\n",
    "print(X.shape)\n",
    "X.head()"
   ]
  },
  {
   "cell_type": "code",
   "execution_count": 5,
   "id": "273e8118",
   "metadata": {},
   "outputs": [
    {
     "data": {
      "text/plain": [
       "0.9802915082382764"
      ]
     },
     "execution_count": 5,
     "metadata": {},
     "output_type": "execute_result"
    }
   ],
   "source": [
    "from sklearn.model_selection import cross_val_score\n",
    "from sklearn.ensemble import RandomForestClassifier\n",
    "from sklearn.pipeline import make_pipeline\n",
    "\n",
    "pipeline = make_pipeline(RandomForestClassifier(n_estimators = 100, random_state = 0))\n",
    "\n",
    "cv_scores = cross_val_score(\n",
    "    pipeline, X, y,\n",
    "    cv = 5,\n",
    "    scoring = 'accuracy'\n",
    ")\n",
    "\n",
    "cv_scores.mean()"
   ]
  },
  {
   "cell_type": "code",
   "execution_count": 6,
   "id": "00539f90",
   "metadata": {},
   "outputs": [
    {
     "name": "stdout",
     "output_type": "stream",
     "text": [
      "<class 'pandas.core.frame.DataFrame'>\n",
      "RangeIndex: 1319 entries, 0 to 1318\n",
      "Data columns (total 11 columns):\n",
      " #   Column       Non-Null Count  Dtype  \n",
      "---  ------       --------------  -----  \n",
      " 0   reports      1319 non-null   int64  \n",
      " 1   age          1319 non-null   float64\n",
      " 2   income       1319 non-null   float64\n",
      " 3   share        1319 non-null   float64\n",
      " 4   expenditure  1319 non-null   float64\n",
      " 5   owner        1319 non-null   bool   \n",
      " 6   selfemp      1319 non-null   bool   \n",
      " 7   dependents   1319 non-null   int64  \n",
      " 8   months       1319 non-null   int64  \n",
      " 9   majorcards   1319 non-null   int64  \n",
      " 10  active       1319 non-null   int64  \n",
      "dtypes: bool(2), float64(4), int64(5)\n",
      "memory usage: 95.4 KB\n"
     ]
    }
   ],
   "source": [
    "# that is extremely high\n",
    "# let's take another look at data\n",
    "\n",
    "X.info()"
   ]
  },
  {
   "cell_type": "code",
   "execution_count": 11,
   "id": "57067828",
   "metadata": {},
   "outputs": [
    {
     "data": {
      "text/plain": [
       "0.020527859237536656"
      ]
     },
     "execution_count": 11,
     "metadata": {},
     "output_type": "execute_result"
    }
   ],
   "source": [
    "expenditures_cardholders = X['expenditure'][y]\n",
    "expenditures_noncholders = X['expenditure'][~y]\n",
    "\n",
    "(expenditures_cardholders == 0).mean()"
   ]
  },
  {
   "cell_type": "code",
   "execution_count": 12,
   "id": "51cf6d94",
   "metadata": {},
   "outputs": [
    {
     "data": {
      "text/plain": [
       "1.0"
      ]
     },
     "execution_count": 12,
     "metadata": {},
     "output_type": "execute_result"
    }
   ],
   "source": [
    "(expenditures_noncholders == 0).mean()"
   ]
  },
  {
   "cell_type": "code",
   "execution_count": 15,
   "id": "9ee50ffb",
   "metadata": {},
   "outputs": [
    {
     "data": {
      "text/html": [
       "<div>\n",
       "<style scoped>\n",
       "    .dataframe tbody tr th:only-of-type {\n",
       "        vertical-align: middle;\n",
       "    }\n",
       "\n",
       "    .dataframe tbody tr th {\n",
       "        vertical-align: top;\n",
       "    }\n",
       "\n",
       "    .dataframe thead tr th {\n",
       "        text-align: left;\n",
       "    }\n",
       "\n",
       "    .dataframe thead tr:last-of-type th {\n",
       "        text-align: right;\n",
       "    }\n",
       "</style>\n",
       "<table border=\"1\" class=\"dataframe\">\n",
       "  <thead>\n",
       "    <tr>\n",
       "      <th></th>\n",
       "      <th>reports</th>\n",
       "      <th>age</th>\n",
       "      <th>income</th>\n",
       "      <th>share</th>\n",
       "      <th>expenditure</th>\n",
       "      <th>owner</th>\n",
       "      <th>selfemp</th>\n",
       "      <th>dependents</th>\n",
       "      <th>months</th>\n",
       "      <th>majorcards</th>\n",
       "      <th>active</th>\n",
       "    </tr>\n",
       "    <tr>\n",
       "      <th></th>\n",
       "      <th>mean</th>\n",
       "      <th>mean</th>\n",
       "      <th>mean</th>\n",
       "      <th>mean</th>\n",
       "      <th>mean</th>\n",
       "      <th>mean</th>\n",
       "      <th>mean</th>\n",
       "      <th>mean</th>\n",
       "      <th>mean</th>\n",
       "      <th>mean</th>\n",
       "      <th>mean</th>\n",
       "    </tr>\n",
       "    <tr>\n",
       "      <th>card</th>\n",
       "      <th></th>\n",
       "      <th></th>\n",
       "      <th></th>\n",
       "      <th></th>\n",
       "      <th></th>\n",
       "      <th></th>\n",
       "      <th></th>\n",
       "      <th></th>\n",
       "      <th></th>\n",
       "      <th></th>\n",
       "      <th></th>\n",
       "    </tr>\n",
       "  </thead>\n",
       "  <tbody>\n",
       "    <tr>\n",
       "      <th>False</th>\n",
       "      <td>1.587838</td>\n",
       "      <td>33.202984</td>\n",
       "      <td>3.068509</td>\n",
       "      <td>0.000477</td>\n",
       "      <td>0.000000</td>\n",
       "      <td>0.304054</td>\n",
       "      <td>0.094595</td>\n",
       "      <td>1.077703</td>\n",
       "      <td>55.300676</td>\n",
       "      <td>0.739865</td>\n",
       "      <td>6.054054</td>\n",
       "    </tr>\n",
       "    <tr>\n",
       "      <th>True</th>\n",
       "      <td>0.129032</td>\n",
       "      <td>33.216031</td>\n",
       "      <td>3.451273</td>\n",
       "      <td>0.088482</td>\n",
       "      <td>238.602421</td>\n",
       "      <td>0.479961</td>\n",
       "      <td>0.061584</td>\n",
       "      <td>0.969697</td>\n",
       "      <td>55.258065</td>\n",
       "      <td>0.839687</td>\n",
       "      <td>7.269795</td>\n",
       "    </tr>\n",
       "  </tbody>\n",
       "</table>\n",
       "</div>"
      ],
      "text/plain": [
       "        reports        age    income     share expenditure     owner  \\\n",
       "           mean       mean      mean      mean        mean      mean   \n",
       "card                                                                   \n",
       "False  1.587838  33.202984  3.068509  0.000477    0.000000  0.304054   \n",
       "True   0.129032  33.216031  3.451273  0.088482  238.602421  0.479961   \n",
       "\n",
       "        selfemp dependents     months majorcards    active  \n",
       "           mean       mean       mean       mean      mean  \n",
       "card                                                        \n",
       "False  0.094595   1.077703  55.300676   0.739865  6.054054  \n",
       "True   0.061584   0.969697  55.258065   0.839687  7.269795  "
      ]
     },
     "execution_count": 15,
     "metadata": {},
     "output_type": "execute_result"
    }
   ],
   "source": [
    "# expenditures are a target leak\n",
    "# let's examine other columns\n",
    "\n",
    "data.groupby('card').agg(['mean'])"
   ]
  },
  {
   "cell_type": "code",
   "execution_count": 17,
   "id": "08714386",
   "metadata": {},
   "outputs": [],
   "source": [
    "# share is partly defined by expenditure. We should exclude it\n",
    "# active and majorcards also contain information about whether or not the card is held"
   ]
  },
  {
   "cell_type": "code",
   "execution_count": 18,
   "id": "6d166f96",
   "metadata": {},
   "outputs": [
    {
     "data": {
      "text/plain": [
       "0.829410070284595"
      ]
     },
     "execution_count": 18,
     "metadata": {},
     "output_type": "execute_result"
    }
   ],
   "source": [
    "potential_leaks = ['expenditure', 'share', 'active', 'majorcards']\n",
    "\n",
    "X2 = X.drop(potential_leaks, axis = 1)\n",
    "\n",
    "cv_scores = cross_val_score(\n",
    "    pipeline, X2, y,\n",
    "    cv = 5,\n",
    "    scoring = 'accuracy'\n",
    ")\n",
    "\n",
    "cv_scores.mean()"
   ]
  },
  {
   "cell_type": "code",
   "execution_count": null,
   "id": "a9fedc95",
   "metadata": {},
   "outputs": [],
   "source": []
  }
 ],
 "metadata": {
  "kernelspec": {
   "display_name": "Python 3 (ipykernel)",
   "language": "python",
   "name": "python3"
  },
  "language_info": {
   "codemirror_mode": {
    "name": "ipython",
    "version": 3
   },
   "file_extension": ".py",
   "mimetype": "text/x-python",
   "name": "python",
   "nbconvert_exporter": "python",
   "pygments_lexer": "ipython3",
   "version": "3.9.2"
  }
 },
 "nbformat": 4,
 "nbformat_minor": 5
}
